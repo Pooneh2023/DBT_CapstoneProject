{
 "cells": [
  {
   "cell_type": "code",
   "execution_count": null,
   "metadata": {},
   "outputs": [],
   "source": [
    "import matplotlib.pyplot as plt\n",
    "\n",
    "plt.figure(figsize=(10, 6))\n",
    "plt.hist(nyc_taxi_weather_data['total_amount'], bins=100, color='skyblue', edgecolor='black')\n",
    "plt.title('Distribution of Total Amount')\n",
    "plt.xlabel('Total Amount ($)')\n",
    "plt.ylabel('Frequency')\n",
    "plt.xlim(-50, 200)  # adjust as needed to focus on the range you're interested in\n",
    "plt.grid(True)\n",
    "plt.show()"
   ]
  },
  {
   "cell_type": "code",
   "execution_count": null,
   "metadata": {},
   "outputs": [],
   "source": [
    "import seaborn as sns\n",
    "\n",
    "plt.figure(figsize=(8, 4))\n",
    "sns.boxplot(x=nyc_taxi_weather_data['total_amount'])\n",
    "plt.title('Boxplot of Total Amount')\n",
    "plt.xlim(-50, 200)  # optional: zoom into a reasonable range\n",
    "plt.show()\n"
   ]
  },
  {
   "cell_type": "code",
   "execution_count": null,
   "metadata": {},
   "outputs": [],
   "source": [
    "# Example: check a few rows with all details\n",
    "negative_payments=nyc_taxi_weather_data[['pickup_time', 'do_time', 'passenger_count', 'payment_type', 'fare_amount', 'extra', 'tip_amount', 'total_amount']].head()\n"
   ]
  },
  {
   "cell_type": "code",
   "execution_count": null,
   "metadata": {},
   "outputs": [],
   "source": [
    "import matplotlib.pyplot as plt\n",
    "import seaborn as sns\n",
    "\n",
    "# Example data\n",
    "# Assuming you already have a DataFrame called nyc_taxi_weather_data\n",
    "revenue_by_vendor = nyc_taxi_weather_data.groupby('VendorID')['total_amount'].sum()\n",
    "\n",
    "# Plot\n",
    "revenue_by_vendor.plot(kind='bar', color='skyblue')\n",
    "plt.title('Revenue by Vendor')\n",
    "plt.xlabel('Vendor ID')\n",
    "plt.ylabel('Total Revenue')\n",
    "plt.xticks(rotation=0)\n",
    "plt.tight_layout()\n",
    "plt.show()\n"
   ]
  },
  {
   "cell_type": "code",
   "execution_count": null,
   "metadata": {},
   "outputs": [],
   "source": [
    "import matplotlib.pyplot as plt\n",
    "import seaborn as sns\n",
    "\n",
    "plt.figure(figsize=(10, 6))\n",
    "sns.kdeplot(nyc_taxi_weather_data['total_amount'], fill=True, color='purple')\n",
    "plt.title('KDE of Total Amount')\n",
    "plt.xlabel('Total Amount ($)')\n",
    "plt.xlim(-50, 200)  # adjust based on your data\n",
    "plt.grid(True)\n",
    "plt.show()\n"
   ]
  },
  {
   "cell_type": "code",
   "execution_count": null,
   "metadata": {},
   "outputs": [],
   "source": []
  },
  {
   "cell_type": "code",
   "execution_count": null,
   "metadata": {},
   "outputs": [],
   "source": []
  }
 ],
 "metadata": {
  "kernelspec": {
   "display_name": "Python 3",
   "language": "python",
   "name": "python3"
  },
  "language_info": {
   "name": "python",
   "version": "3.9.6"
  }
 },
 "nbformat": 4,
 "nbformat_minor": 2
}
