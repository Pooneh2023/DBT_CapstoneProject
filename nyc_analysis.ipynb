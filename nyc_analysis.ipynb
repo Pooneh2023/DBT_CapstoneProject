{
 "cells": [
  {
   "cell_type": "markdown",
   "metadata": {},
   "source": [
    "### Yearly nyc_taxi EDA\n"
   ]
  },
  {
   "cell_type": "code",
   "execution_count": null,
   "metadata": {},
   "outputs": [],
   "source": [
    "\n",
    "import pandas as pd"
   ]
  },
  {
   "cell_type": "code",
   "execution_count": null,
   "metadata": {},
   "outputs": [],
   "source": [
    "# read and combine the data\n",
    "df10 = pd.read_parquet('../parquet/taxi_data_october.parquet')\n",
    "df11 = pd.read_parquet('../parquet/taxi_data_november.parquet')\n",
    "df12 = pd.read_parquet('../parquet/taxi_data_december.parquet')\n",
    "df7 = pd.read_parquet('../parquet/taxi_data_july.parquet')\n",
    "df8 = pd.read_parquet('../parquet/taxi_data_august.parquet')\n",
    "df9 = pd.read_parquet('../parquet/taxi_data_september.parquet')\n",
    "df1 = pd.read_parquet('../parquet/taxi_data_january.parquet')\n",
    "df2 = pd.read_parquet('../parquet/taxi_data_february.parquet')\n",
    "df3 = pd.read_parquet('../parquet/taxi_data_mars.parquet')\n",
    "df4 = pd.read_parquet('../parquet/taxi_data_april.parquet')\n",
    "df5 = pd.read_parquet('../parquet/taxi_data_may.parquet')\n",
    "df6 = pd.read_parquet('../parquet/taxi_data_june.parquet')\n",
    "df = pd.concat([df1, df2, df3, df4, df5, df6, df7, df8, df9, df10, df11, df12], ignore_index=True)"
   ]
  },
  {
   "cell_type": "code",
   "execution_count": 18,
   "metadata": {},
   "outputs": [],
   "source": [
    "# gettuing some statistics\n",
    "#df.describe()"
   ]
  },
  {
   "cell_type": "code",
   "execution_count": 15,
   "metadata": {},
   "outputs": [],
   "source": [
    "# sampling the data\n",
    "new_df = df.sample(frac=0.05, replace = False, random_state=1)"
   ]
  },
  {
   "cell_type": "code",
   "execution_count": null,
   "metadata": {},
   "outputs": [],
   "source": [
    "# getting some statistics from the sample\n",
    "# new_df.describe()"
   ]
  },
  {
   "cell_type": "code",
   "execution_count": 39,
   "metadata": {},
   "outputs": [
    {
     "data": {
      "text/plain": [
       "Index(['PULocationID', 'Borough', 'Zone'], dtype='object')"
      ]
     },
     "execution_count": 39,
     "metadata": {},
     "output_type": "execute_result"
    }
   ],
   "source": [
    "# getting the taxi zone data to merge with the sample to get locations\n",
    "zones = pd.read_csv('../parquet/taxi_zones.csv')\n",
    "zones.columns"
   ]
  },
  {
   "cell_type": "code",
   "execution_count": 40,
   "metadata": {},
   "outputs": [],
   "source": [
    "# merging with the taxi zone data to get locations\n",
    "nyc_taxi_data_yearly = pd.merge(new_df , zones, how='left',on='PULocationID')"
   ]
  },
  {
   "cell_type": "code",
   "execution_count": 41,
   "metadata": {},
   "outputs": [],
   "source": [
    "# getting\n",
    "do_zones = pd.read_csv('../parquet/taxi_zone_do.csv')"
   ]
  },
  {
   "cell_type": "code",
   "execution_count": 42,
   "metadata": {},
   "outputs": [],
   "source": [
    "nyc_taxi_data_yearly = pd.merge(nyc_taxi_data_yearly ,do_zones, how='left',on='DOLocationID')"
   ]
  },
  {
   "cell_type": "code",
   "execution_count": 43,
   "metadata": {},
   "outputs": [
    {
     "data": {
      "text/html": [
       "<div>\n",
       "<style scoped>\n",
       "    .dataframe tbody tr th:only-of-type {\n",
       "        vertical-align: middle;\n",
       "    }\n",
       "\n",
       "    .dataframe tbody tr th {\n",
       "        vertical-align: top;\n",
       "    }\n",
       "\n",
       "    .dataframe thead th {\n",
       "        text-align: right;\n",
       "    }\n",
       "</style>\n",
       "<table border=\"1\" class=\"dataframe\">\n",
       "  <thead>\n",
       "    <tr style=\"text-align: right;\">\n",
       "      <th></th>\n",
       "      <th>VendorID</th>\n",
       "      <th>tpep_pickup_datetime</th>\n",
       "      <th>tpep_dropoff_datetime</th>\n",
       "      <th>passenger_count</th>\n",
       "      <th>trip_distance</th>\n",
       "      <th>RatecodeID</th>\n",
       "      <th>store_and_fwd_flag</th>\n",
       "      <th>PULocationID</th>\n",
       "      <th>DOLocationID</th>\n",
       "      <th>payment_type</th>\n",
       "      <th>...</th>\n",
       "      <th>tip_amount</th>\n",
       "      <th>tolls_amount</th>\n",
       "      <th>improvement_surcharge</th>\n",
       "      <th>total_amount</th>\n",
       "      <th>congestion_surcharge</th>\n",
       "      <th>Airport_fee</th>\n",
       "      <th>Borough</th>\n",
       "      <th>Zone</th>\n",
       "      <th>do_Borough</th>\n",
       "      <th>do_ Zone</th>\n",
       "    </tr>\n",
       "  </thead>\n",
       "  <tbody>\n",
       "    <tr>\n",
       "      <th>0</th>\n",
       "      <td>2</td>\n",
       "      <td>2024-07-27 22:08:04</td>\n",
       "      <td>2024-07-27 22:23:46</td>\n",
       "      <td>2.0</td>\n",
       "      <td>2.72</td>\n",
       "      <td>1.0</td>\n",
       "      <td>N</td>\n",
       "      <td>161</td>\n",
       "      <td>114</td>\n",
       "      <td>2</td>\n",
       "      <td>...</td>\n",
       "      <td>0.00</td>\n",
       "      <td>0.00</td>\n",
       "      <td>1.0</td>\n",
       "      <td>21.30</td>\n",
       "      <td>2.5</td>\n",
       "      <td>0.0</td>\n",
       "      <td>Manhattan</td>\n",
       "      <td>Midtown Center</td>\n",
       "      <td>Manhattan</td>\n",
       "      <td>Greenwich Village South</td>\n",
       "    </tr>\n",
       "    <tr>\n",
       "      <th>1</th>\n",
       "      <td>2</td>\n",
       "      <td>2024-05-14 14:08:19</td>\n",
       "      <td>2024-05-14 14:14:12</td>\n",
       "      <td>1.0</td>\n",
       "      <td>0.46</td>\n",
       "      <td>1.0</td>\n",
       "      <td>N</td>\n",
       "      <td>239</td>\n",
       "      <td>142</td>\n",
       "      <td>2</td>\n",
       "      <td>...</td>\n",
       "      <td>0.00</td>\n",
       "      <td>0.00</td>\n",
       "      <td>1.0</td>\n",
       "      <td>11.20</td>\n",
       "      <td>2.5</td>\n",
       "      <td>0.0</td>\n",
       "      <td>Manhattan</td>\n",
       "      <td>Upper West Side South</td>\n",
       "      <td>Manhattan</td>\n",
       "      <td>Lincoln Square East</td>\n",
       "    </tr>\n",
       "    <tr>\n",
       "      <th>2</th>\n",
       "      <td>2</td>\n",
       "      <td>2024-08-10 14:42:23</td>\n",
       "      <td>2024-08-10 14:53:54</td>\n",
       "      <td>1.0</td>\n",
       "      <td>1.30</td>\n",
       "      <td>1.0</td>\n",
       "      <td>N</td>\n",
       "      <td>161</td>\n",
       "      <td>186</td>\n",
       "      <td>1</td>\n",
       "      <td>...</td>\n",
       "      <td>3.08</td>\n",
       "      <td>0.00</td>\n",
       "      <td>1.0</td>\n",
       "      <td>18.48</td>\n",
       "      <td>2.5</td>\n",
       "      <td>0.0</td>\n",
       "      <td>Manhattan</td>\n",
       "      <td>Midtown Center</td>\n",
       "      <td>Manhattan</td>\n",
       "      <td>Penn Station/Madison Sq West</td>\n",
       "    </tr>\n",
       "    <tr>\n",
       "      <th>3</th>\n",
       "      <td>2</td>\n",
       "      <td>2024-04-17 10:22:55</td>\n",
       "      <td>2024-04-17 10:49:11</td>\n",
       "      <td>1.0</td>\n",
       "      <td>1.41</td>\n",
       "      <td>1.0</td>\n",
       "      <td>N</td>\n",
       "      <td>186</td>\n",
       "      <td>162</td>\n",
       "      <td>1</td>\n",
       "      <td>...</td>\n",
       "      <td>5.04</td>\n",
       "      <td>0.00</td>\n",
       "      <td>1.0</td>\n",
       "      <td>30.24</td>\n",
       "      <td>2.5</td>\n",
       "      <td>0.0</td>\n",
       "      <td>Manhattan</td>\n",
       "      <td>Penn Station/Madison Sq West</td>\n",
       "      <td>Manhattan</td>\n",
       "      <td>Midtown East</td>\n",
       "    </tr>\n",
       "    <tr>\n",
       "      <th>4</th>\n",
       "      <td>1</td>\n",
       "      <td>2024-02-14 09:04:38</td>\n",
       "      <td>2024-02-14 09:49:12</td>\n",
       "      <td>NaN</td>\n",
       "      <td>0.00</td>\n",
       "      <td>NaN</td>\n",
       "      <td>None</td>\n",
       "      <td>7</td>\n",
       "      <td>261</td>\n",
       "      <td>0</td>\n",
       "      <td>...</td>\n",
       "      <td>0.00</td>\n",
       "      <td>6.94</td>\n",
       "      <td>1.0</td>\n",
       "      <td>63.99</td>\n",
       "      <td>NaN</td>\n",
       "      <td>NaN</td>\n",
       "      <td>Queens</td>\n",
       "      <td>Astoria</td>\n",
       "      <td>Manhattan</td>\n",
       "      <td>World Trade Center</td>\n",
       "    </tr>\n",
       "  </tbody>\n",
       "</table>\n",
       "<p>5 rows × 23 columns</p>\n",
       "</div>"
      ],
      "text/plain": [
       "   VendorID tpep_pickup_datetime tpep_dropoff_datetime  passenger_count  \\\n",
       "0         2  2024-07-27 22:08:04   2024-07-27 22:23:46              2.0   \n",
       "1         2  2024-05-14 14:08:19   2024-05-14 14:14:12              1.0   \n",
       "2         2  2024-08-10 14:42:23   2024-08-10 14:53:54              1.0   \n",
       "3         2  2024-04-17 10:22:55   2024-04-17 10:49:11              1.0   \n",
       "4         1  2024-02-14 09:04:38   2024-02-14 09:49:12              NaN   \n",
       "\n",
       "   trip_distance  RatecodeID store_and_fwd_flag  PULocationID  DOLocationID  \\\n",
       "0           2.72         1.0                  N           161           114   \n",
       "1           0.46         1.0                  N           239           142   \n",
       "2           1.30         1.0                  N           161           186   \n",
       "3           1.41         1.0                  N           186           162   \n",
       "4           0.00         NaN               None             7           261   \n",
       "\n",
       "   payment_type  ...  tip_amount  tolls_amount  improvement_surcharge  \\\n",
       "0             2  ...        0.00          0.00                    1.0   \n",
       "1             2  ...        0.00          0.00                    1.0   \n",
       "2             1  ...        3.08          0.00                    1.0   \n",
       "3             1  ...        5.04          0.00                    1.0   \n",
       "4             0  ...        0.00          6.94                    1.0   \n",
       "\n",
       "   total_amount  congestion_surcharge  Airport_fee    Borough  \\\n",
       "0         21.30                   2.5          0.0  Manhattan   \n",
       "1         11.20                   2.5          0.0  Manhattan   \n",
       "2         18.48                   2.5          0.0  Manhattan   \n",
       "3         30.24                   2.5          0.0  Manhattan   \n",
       "4         63.99                   NaN          NaN     Queens   \n",
       "\n",
       "                           Zone  do_Borough                       do_ Zone  \n",
       "0                Midtown Center    Manhattan       Greenwich Village South  \n",
       "1         Upper West Side South    Manhattan           Lincoln Square East  \n",
       "2                Midtown Center    Manhattan  Penn Station/Madison Sq West  \n",
       "3  Penn Station/Madison Sq West    Manhattan                  Midtown East  \n",
       "4                       Astoria    Manhattan            World Trade Center  \n",
       "\n",
       "[5 rows x 23 columns]"
      ]
     },
     "execution_count": 43,
     "metadata": {},
     "output_type": "execute_result"
    }
   ],
   "source": [
    "nyc_taxi_data_yearly.head(5)"
   ]
  },
  {
   "cell_type": "code",
   "execution_count": 63,
   "metadata": {},
   "outputs": [],
   "source": [
    "new_lat_lang_pu = pd.read_csv('./data/nwe_taxi_zone_lat_lang.csv')"
   ]
  },
  {
   "cell_type": "code",
   "execution_count": 64,
   "metadata": {},
   "outputs": [],
   "source": [
    "nyc_taxi_data_yearly = pd.merge(nyc_taxi_data_yearly ,new_lat_lang_pu, how='left',on='PULocationID')"
   ]
  },
  {
   "cell_type": "code",
   "execution_count": 72,
   "metadata": {},
   "outputs": [
    {
     "data": {
      "text/plain": [
       "Index(['DOLocationID', 'do_Borough ', 'do_ Zone', 'do_latitude',\n",
       "       'do_longitude'],\n",
       "      dtype='object')"
      ]
     },
     "execution_count": 72,
     "metadata": {},
     "output_type": "execute_result"
    }
   ],
   "source": [
    "new_lat_lang_do= pd.read_csv('./data/nwe_taxi_zone_lat_lang1.csv')\n",
    "new_lat_lang_do.columns"
   ]
  },
  {
   "cell_type": "code",
   "execution_count": 73,
   "metadata": {},
   "outputs": [],
   "source": [
    "new_lat_lang_do.drop(columns = ['do_Borough ', 'do_ Zone'], inplace = True)"
   ]
  },
  {
   "cell_type": "code",
   "execution_count": 74,
   "metadata": {},
   "outputs": [
    {
     "data": {
      "text/html": [
       "<div>\n",
       "<style scoped>\n",
       "    .dataframe tbody tr th:only-of-type {\n",
       "        vertical-align: middle;\n",
       "    }\n",
       "\n",
       "    .dataframe tbody tr th {\n",
       "        vertical-align: top;\n",
       "    }\n",
       "\n",
       "    .dataframe thead th {\n",
       "        text-align: right;\n",
       "    }\n",
       "</style>\n",
       "<table border=\"1\" class=\"dataframe\">\n",
       "  <thead>\n",
       "    <tr style=\"text-align: right;\">\n",
       "      <th></th>\n",
       "      <th>DOLocationID</th>\n",
       "      <th>do_latitude</th>\n",
       "      <th>do_longitude</th>\n",
       "    </tr>\n",
       "  </thead>\n",
       "  <tbody>\n",
       "    <tr>\n",
       "      <th>0</th>\n",
       "      <td>1</td>\n",
       "      <td>NaN</td>\n",
       "      <td>NaN</td>\n",
       "    </tr>\n",
       "    <tr>\n",
       "      <th>1</th>\n",
       "      <td>2</td>\n",
       "      <td>40.603994</td>\n",
       "      <td>-73.835412</td>\n",
       "    </tr>\n",
       "    <tr>\n",
       "      <th>2</th>\n",
       "      <td>3</td>\n",
       "      <td>NaN</td>\n",
       "      <td>NaN</td>\n",
       "    </tr>\n",
       "    <tr>\n",
       "      <th>3</th>\n",
       "      <td>4</td>\n",
       "      <td>40.725102</td>\n",
       "      <td>-73.979583</td>\n",
       "    </tr>\n",
       "    <tr>\n",
       "      <th>4</th>\n",
       "      <td>5</td>\n",
       "      <td>40.563700</td>\n",
       "      <td>-74.191603</td>\n",
       "    </tr>\n",
       "  </tbody>\n",
       "</table>\n",
       "</div>"
      ],
      "text/plain": [
       "   DOLocationID  do_latitude  do_longitude\n",
       "0             1          NaN           NaN\n",
       "1             2    40.603994    -73.835412\n",
       "2             3          NaN           NaN\n",
       "3             4    40.725102    -73.979583\n",
       "4             5    40.563700    -74.191603"
      ]
     },
     "execution_count": 74,
     "metadata": {},
     "output_type": "execute_result"
    }
   ],
   "source": [
    "new_lat_lang_do.head()"
   ]
  },
  {
   "cell_type": "code",
   "execution_count": 75,
   "metadata": {},
   "outputs": [],
   "source": [
    "nyc_taxi_data_yearly = pd.merge(nyc_taxi_data_yearly ,new_lat_lang_do, how='left',on='DOLocationID')"
   ]
  },
  {
   "cell_type": "code",
   "execution_count": 76,
   "metadata": {},
   "outputs": [
    {
     "data": {
      "text/html": [
       "<div>\n",
       "<style scoped>\n",
       "    .dataframe tbody tr th:only-of-type {\n",
       "        vertical-align: middle;\n",
       "    }\n",
       "\n",
       "    .dataframe tbody tr th {\n",
       "        vertical-align: top;\n",
       "    }\n",
       "\n",
       "    .dataframe thead th {\n",
       "        text-align: right;\n",
       "    }\n",
       "</style>\n",
       "<table border=\"1\" class=\"dataframe\">\n",
       "  <thead>\n",
       "    <tr style=\"text-align: right;\">\n",
       "      <th></th>\n",
       "      <th>VendorID</th>\n",
       "      <th>tpep_pickup_datetime</th>\n",
       "      <th>tpep_dropoff_datetime</th>\n",
       "      <th>passenger_count</th>\n",
       "      <th>trip_distance</th>\n",
       "      <th>RatecodeID</th>\n",
       "      <th>store_and_fwd_flag</th>\n",
       "      <th>PULocationID</th>\n",
       "      <th>DOLocationID</th>\n",
       "      <th>payment_type</th>\n",
       "      <th>...</th>\n",
       "      <th>congestion_surcharge</th>\n",
       "      <th>Airport_fee</th>\n",
       "      <th>Borough</th>\n",
       "      <th>Zone</th>\n",
       "      <th>do_Borough</th>\n",
       "      <th>do_ Zone</th>\n",
       "      <th>latitude</th>\n",
       "      <th>longitude</th>\n",
       "      <th>do_latitude</th>\n",
       "      <th>do_longitude</th>\n",
       "    </tr>\n",
       "  </thead>\n",
       "  <tbody>\n",
       "    <tr>\n",
       "      <th>0</th>\n",
       "      <td>2</td>\n",
       "      <td>2024-07-27 22:08:04</td>\n",
       "      <td>2024-07-27 22:23:46</td>\n",
       "      <td>2.0</td>\n",
       "      <td>2.72</td>\n",
       "      <td>1.0</td>\n",
       "      <td>N</td>\n",
       "      <td>161</td>\n",
       "      <td>114</td>\n",
       "      <td>2</td>\n",
       "      <td>...</td>\n",
       "      <td>2.5</td>\n",
       "      <td>0.0</td>\n",
       "      <td>Manhattan</td>\n",
       "      <td>Midtown Center</td>\n",
       "      <td>Manhattan</td>\n",
       "      <td>Greenwich Village South</td>\n",
       "      <td>40.765064</td>\n",
       "      <td>-73.985319</td>\n",
       "      <td>40.733584</td>\n",
       "      <td>-74.002817</td>\n",
       "    </tr>\n",
       "    <tr>\n",
       "      <th>1</th>\n",
       "      <td>2</td>\n",
       "      <td>2024-05-14 14:08:19</td>\n",
       "      <td>2024-05-14 14:14:12</td>\n",
       "      <td>1.0</td>\n",
       "      <td>0.46</td>\n",
       "      <td>1.0</td>\n",
       "      <td>N</td>\n",
       "      <td>239</td>\n",
       "      <td>142</td>\n",
       "      <td>2</td>\n",
       "      <td>...</td>\n",
       "      <td>2.5</td>\n",
       "      <td>0.0</td>\n",
       "      <td>Manhattan</td>\n",
       "      <td>Upper West Side South</td>\n",
       "      <td>Manhattan</td>\n",
       "      <td>Lincoln Square East</td>\n",
       "      <td>NaN</td>\n",
       "      <td>NaN</td>\n",
       "      <td>NaN</td>\n",
       "      <td>NaN</td>\n",
       "    </tr>\n",
       "    <tr>\n",
       "      <th>2</th>\n",
       "      <td>2</td>\n",
       "      <td>2024-08-10 14:42:23</td>\n",
       "      <td>2024-08-10 14:53:54</td>\n",
       "      <td>1.0</td>\n",
       "      <td>1.30</td>\n",
       "      <td>1.0</td>\n",
       "      <td>N</td>\n",
       "      <td>161</td>\n",
       "      <td>186</td>\n",
       "      <td>1</td>\n",
       "      <td>...</td>\n",
       "      <td>2.5</td>\n",
       "      <td>0.0</td>\n",
       "      <td>Manhattan</td>\n",
       "      <td>Midtown Center</td>\n",
       "      <td>Manhattan</td>\n",
       "      <td>Penn Station/Madison Sq West</td>\n",
       "      <td>40.765064</td>\n",
       "      <td>-73.985319</td>\n",
       "      <td>NaN</td>\n",
       "      <td>NaN</td>\n",
       "    </tr>\n",
       "    <tr>\n",
       "      <th>3</th>\n",
       "      <td>2</td>\n",
       "      <td>2024-04-17 10:22:55</td>\n",
       "      <td>2024-04-17 10:49:11</td>\n",
       "      <td>1.0</td>\n",
       "      <td>1.41</td>\n",
       "      <td>1.0</td>\n",
       "      <td>N</td>\n",
       "      <td>186</td>\n",
       "      <td>162</td>\n",
       "      <td>1</td>\n",
       "      <td>...</td>\n",
       "      <td>2.5</td>\n",
       "      <td>0.0</td>\n",
       "      <td>Manhattan</td>\n",
       "      <td>Penn Station/Madison Sq West</td>\n",
       "      <td>Manhattan</td>\n",
       "      <td>Midtown East</td>\n",
       "      <td>NaN</td>\n",
       "      <td>NaN</td>\n",
       "      <td>40.759822</td>\n",
       "      <td>-73.972471</td>\n",
       "    </tr>\n",
       "    <tr>\n",
       "      <th>4</th>\n",
       "      <td>1</td>\n",
       "      <td>2024-02-14 09:04:38</td>\n",
       "      <td>2024-02-14 09:49:12</td>\n",
       "      <td>NaN</td>\n",
       "      <td>0.00</td>\n",
       "      <td>NaN</td>\n",
       "      <td>None</td>\n",
       "      <td>7</td>\n",
       "      <td>261</td>\n",
       "      <td>0</td>\n",
       "      <td>...</td>\n",
       "      <td>NaN</td>\n",
       "      <td>NaN</td>\n",
       "      <td>Queens</td>\n",
       "      <td>Astoria</td>\n",
       "      <td>Manhattan</td>\n",
       "      <td>World Trade Center</td>\n",
       "      <td>40.772014</td>\n",
       "      <td>-73.930267</td>\n",
       "      <td>40.711900</td>\n",
       "      <td>-74.012527</td>\n",
       "    </tr>\n",
       "  </tbody>\n",
       "</table>\n",
       "<p>5 rows × 27 columns</p>\n",
       "</div>"
      ],
      "text/plain": [
       "   VendorID tpep_pickup_datetime tpep_dropoff_datetime  passenger_count  \\\n",
       "0         2  2024-07-27 22:08:04   2024-07-27 22:23:46              2.0   \n",
       "1         2  2024-05-14 14:08:19   2024-05-14 14:14:12              1.0   \n",
       "2         2  2024-08-10 14:42:23   2024-08-10 14:53:54              1.0   \n",
       "3         2  2024-04-17 10:22:55   2024-04-17 10:49:11              1.0   \n",
       "4         1  2024-02-14 09:04:38   2024-02-14 09:49:12              NaN   \n",
       "\n",
       "   trip_distance  RatecodeID store_and_fwd_flag  PULocationID  DOLocationID  \\\n",
       "0           2.72         1.0                  N           161           114   \n",
       "1           0.46         1.0                  N           239           142   \n",
       "2           1.30         1.0                  N           161           186   \n",
       "3           1.41         1.0                  N           186           162   \n",
       "4           0.00         NaN               None             7           261   \n",
       "\n",
       "   payment_type  ...  congestion_surcharge  Airport_fee    Borough  \\\n",
       "0             2  ...                   2.5          0.0  Manhattan   \n",
       "1             2  ...                   2.5          0.0  Manhattan   \n",
       "2             1  ...                   2.5          0.0  Manhattan   \n",
       "3             1  ...                   2.5          0.0  Manhattan   \n",
       "4             0  ...                   NaN          NaN     Queens   \n",
       "\n",
       "                           Zone  do_Borough                       do_ Zone  \\\n",
       "0                Midtown Center    Manhattan       Greenwich Village South   \n",
       "1         Upper West Side South    Manhattan           Lincoln Square East   \n",
       "2                Midtown Center    Manhattan  Penn Station/Madison Sq West   \n",
       "3  Penn Station/Madison Sq West    Manhattan                  Midtown East   \n",
       "4                       Astoria    Manhattan            World Trade Center   \n",
       "\n",
       "    latitude  longitude  do_latitude do_longitude  \n",
       "0  40.765064 -73.985319    40.733584   -74.002817  \n",
       "1        NaN        NaN          NaN          NaN  \n",
       "2  40.765064 -73.985319          NaN          NaN  \n",
       "3        NaN        NaN    40.759822   -73.972471  \n",
       "4  40.772014 -73.930267    40.711900   -74.012527  \n",
       "\n",
       "[5 rows x 27 columns]"
      ]
     },
     "execution_count": 76,
     "metadata": {},
     "output_type": "execute_result"
    }
   ],
   "source": [
    "nyc_taxi_data_yearly.head()"
   ]
  },
  {
   "cell_type": "code",
   "execution_count": 77,
   "metadata": {},
   "outputs": [],
   "source": [
    "nyc_taxi_data_yearly.insert(2, 'pu_date', '')\n",
    "nyc_taxi_data_yearly.insert(3, 'pu_time', '')\n",
    "nyc_taxi_data_yearly.insert(5, 'do_date', '')\n",
    "nyc_taxi_data_yearly.insert(6, 'do_time', '')\n"
   ]
  },
  {
   "cell_type": "code",
   "execution_count": 98,
   "metadata": {},
   "outputs": [
    {
     "data": {
      "text/plain": [
       "datetime.time"
      ]
     },
     "execution_count": 98,
     "metadata": {},
     "output_type": "execute_result"
    }
   ],
   "source": [
    "type(nyc_taxi_data_yearly['pu_time'][0])"
   ]
  },
  {
   "cell_type": "code",
   "execution_count": 79,
   "metadata": {},
   "outputs": [],
   "source": [
    "nyc_taxi_data_yearly.rename(columns={ 'Burough': 'borough', 'do_Borough ':'do_borough', 'Zone':'zone', 'do_ Zone':'do_zone'}, inplace=True)"
   ]
  },
  {
   "cell_type": "code",
   "execution_count": 80,
   "metadata": {},
   "outputs": [],
   "source": [
    "nyc_taxi_data_yearly['pu_time'] = nyc_taxi_data_yearly.tpep_pickup_datetime.dt.time\n",
    "nyc_taxi_data_yearly['do_time'] = nyc_taxi_data_yearly.tpep_dropoff_datetime.dt.time"
   ]
  },
  {
   "cell_type": "code",
   "execution_count": null,
   "metadata": {},
   "outputs": [
    {
     "name": "stdout",
     "output_type": "stream",
     "text": [
      "<class 'pandas.core.frame.DataFrame'>\n",
      "RangeIndex: 2058486 entries, 0 to 2058485\n",
      "Data columns (total 29 columns):\n",
      " #   Column                 Dtype  \n",
      "---  ------                 -----  \n",
      " 0   VendorID               int32  \n",
      " 1   pu_date                object \n",
      " 2   pu_time                object \n",
      " 3   do_date                object \n",
      " 4   do_time                object \n",
      " 5   passenger_count        float64\n",
      " 6   trip_distance          float64\n",
      " 7   RatecodeID             float64\n",
      " 8   store_and_fwd_flag     object \n",
      " 9   PULocationID           int32  \n",
      " 10  DOLocationID           int32  \n",
      " 11  payment_type           int64  \n",
      " 12  fare_amount            float64\n",
      " 13  extra                  float64\n",
      " 14  mta_tax                float64\n",
      " 15  tip_amount             float64\n",
      " 16  tolls_amount           float64\n",
      " 17  improvement_surcharge  float64\n",
      " 18  total_amount           float64\n",
      " 19  congestion_surcharge   float64\n",
      " 20  Airport_fee            float64\n",
      " 21  Borough                object \n",
      " 22  zone                   object \n",
      " 23  do_borough             object \n",
      " 24  do_zone                object \n",
      " 25  latitude               float64\n",
      " 26  longitude              float64\n",
      " 27  do_latitude            float64\n",
      " 28  do_longitude           float64\n",
      "dtypes: float64(16), int32(3), int64(1), object(9)\n",
      "memory usage: 431.9+ MB\n"
     ]
    }
   ],
   "source": [
    "nyc_taxi_data_yearly."
   ]
  },
  {
   "cell_type": "code",
   "execution_count": 82,
   "metadata": {},
   "outputs": [],
   "source": [
    "nyc_taxi_data_yearly['pu_date'] = nyc_taxi_data_yearly.tpep_pickup_datetime.dt.date\n",
    "nyc_taxi_data_yearly['do_date'] = nyc_taxi_data_yearly.tpep_dropoff_datetime.dt.date"
   ]
  },
  {
   "cell_type": "code",
   "execution_count": 84,
   "metadata": {},
   "outputs": [],
   "source": [
    "nyc_taxi_data_yearly.drop(columns = ['tpep_pickup_datetime', 'tpep_dropoff_datetime'], inplace = True)"
   ]
  },
  {
   "cell_type": "code",
   "execution_count": 104,
   "metadata": {},
   "outputs": [],
   "source": [
    "nyc_taxi_data_yearly.to_csv('./data/nyc_taxi_data_yearly.csv', index=False)"
   ]
  },
  {
   "cell_type": "code",
   "execution_count": 103,
   "metadata": {},
   "outputs": [
    {
     "ename": "AttributeError",
     "evalue": "Can only use .dt accessor with datetimelike values",
     "output_type": "error",
     "traceback": [
      "\u001b[0;31m---------------------------------------------------------------------------\u001b[0m",
      "\u001b[0;31mAttributeError\u001b[0m                            Traceback (most recent call last)",
      "Cell \u001b[0;32mIn[103], line 1\u001b[0m\n\u001b[0;32m----> 1\u001b[0m nyc_taxi_data_yearly[\u001b[38;5;124m'\u001b[39m\u001b[38;5;124mpu_time\u001b[39m\u001b[38;5;124m'\u001b[39m]\u001b[38;5;241m.\u001b[39mdt\u001b[38;5;241m.\u001b[39mhour\n",
      "File \u001b[0;32m/opt/anaconda3/lib/python3.12/site-packages/pandas/core/generic.py:6299\u001b[0m, in \u001b[0;36mNDFrame.__getattr__\u001b[0;34m(self, name)\u001b[0m\n\u001b[1;32m   6292\u001b[0m \u001b[38;5;28;01mif\u001b[39;00m (\n\u001b[1;32m   6293\u001b[0m     name \u001b[38;5;129;01mnot\u001b[39;00m \u001b[38;5;129;01min\u001b[39;00m \u001b[38;5;28mself\u001b[39m\u001b[38;5;241m.\u001b[39m_internal_names_set\n\u001b[1;32m   6294\u001b[0m     \u001b[38;5;129;01mand\u001b[39;00m name \u001b[38;5;129;01mnot\u001b[39;00m \u001b[38;5;129;01min\u001b[39;00m \u001b[38;5;28mself\u001b[39m\u001b[38;5;241m.\u001b[39m_metadata\n\u001b[1;32m   6295\u001b[0m     \u001b[38;5;129;01mand\u001b[39;00m name \u001b[38;5;129;01mnot\u001b[39;00m \u001b[38;5;129;01min\u001b[39;00m \u001b[38;5;28mself\u001b[39m\u001b[38;5;241m.\u001b[39m_accessors\n\u001b[1;32m   6296\u001b[0m     \u001b[38;5;129;01mand\u001b[39;00m \u001b[38;5;28mself\u001b[39m\u001b[38;5;241m.\u001b[39m_info_axis\u001b[38;5;241m.\u001b[39m_can_hold_identifiers_and_holds_name(name)\n\u001b[1;32m   6297\u001b[0m ):\n\u001b[1;32m   6298\u001b[0m     \u001b[38;5;28;01mreturn\u001b[39;00m \u001b[38;5;28mself\u001b[39m[name]\n\u001b[0;32m-> 6299\u001b[0m \u001b[38;5;28;01mreturn\u001b[39;00m \u001b[38;5;28mobject\u001b[39m\u001b[38;5;241m.\u001b[39m\u001b[38;5;21m__getattribute__\u001b[39m(\u001b[38;5;28mself\u001b[39m, name)\n",
      "File \u001b[0;32m/opt/anaconda3/lib/python3.12/site-packages/pandas/core/accessor.py:224\u001b[0m, in \u001b[0;36mCachedAccessor.__get__\u001b[0;34m(self, obj, cls)\u001b[0m\n\u001b[1;32m    221\u001b[0m \u001b[38;5;28;01mif\u001b[39;00m obj \u001b[38;5;129;01mis\u001b[39;00m \u001b[38;5;28;01mNone\u001b[39;00m:\n\u001b[1;32m    222\u001b[0m     \u001b[38;5;66;03m# we're accessing the attribute of the class, i.e., Dataset.geo\u001b[39;00m\n\u001b[1;32m    223\u001b[0m     \u001b[38;5;28;01mreturn\u001b[39;00m \u001b[38;5;28mself\u001b[39m\u001b[38;5;241m.\u001b[39m_accessor\n\u001b[0;32m--> 224\u001b[0m accessor_obj \u001b[38;5;241m=\u001b[39m \u001b[38;5;28mself\u001b[39m\u001b[38;5;241m.\u001b[39m_accessor(obj)\n\u001b[1;32m    225\u001b[0m \u001b[38;5;66;03m# Replace the property with the accessor object. Inspired by:\u001b[39;00m\n\u001b[1;32m    226\u001b[0m \u001b[38;5;66;03m# https://www.pydanny.com/cached-property.html\u001b[39;00m\n\u001b[1;32m    227\u001b[0m \u001b[38;5;66;03m# We need to use object.__setattr__ because we overwrite __setattr__ on\u001b[39;00m\n\u001b[1;32m    228\u001b[0m \u001b[38;5;66;03m# NDFrame\u001b[39;00m\n\u001b[1;32m    229\u001b[0m \u001b[38;5;28mobject\u001b[39m\u001b[38;5;241m.\u001b[39m\u001b[38;5;21m__setattr__\u001b[39m(obj, \u001b[38;5;28mself\u001b[39m\u001b[38;5;241m.\u001b[39m_name, accessor_obj)\n",
      "File \u001b[0;32m/opt/anaconda3/lib/python3.12/site-packages/pandas/core/indexes/accessors.py:643\u001b[0m, in \u001b[0;36mCombinedDatetimelikeProperties.__new__\u001b[0;34m(cls, data)\u001b[0m\n\u001b[1;32m    640\u001b[0m \u001b[38;5;28;01melif\u001b[39;00m \u001b[38;5;28misinstance\u001b[39m(data\u001b[38;5;241m.\u001b[39mdtype, PeriodDtype):\n\u001b[1;32m    641\u001b[0m     \u001b[38;5;28;01mreturn\u001b[39;00m PeriodProperties(data, orig)\n\u001b[0;32m--> 643\u001b[0m \u001b[38;5;28;01mraise\u001b[39;00m \u001b[38;5;167;01mAttributeError\u001b[39;00m(\u001b[38;5;124m\"\u001b[39m\u001b[38;5;124mCan only use .dt accessor with datetimelike values\u001b[39m\u001b[38;5;124m\"\u001b[39m)\n",
      "\u001b[0;31mAttributeError\u001b[0m: Can only use .dt accessor with datetimelike values"
     ]
    }
   ],
   "source": [
    "nyc_taxi_data_yearly['pu_time'].dt.hour"
   ]
  },
  {
   "cell_type": "code",
   "execution_count": null,
   "metadata": {},
   "outputs": [],
   "source": []
  }
 ],
 "metadata": {
  "kernelspec": {
   "display_name": "base",
   "language": "python",
   "name": "python3"
  },
  "language_info": {
   "codemirror_mode": {
    "name": "ipython",
    "version": 3
   },
   "file_extension": ".py",
   "mimetype": "text/x-python",
   "name": "python",
   "nbconvert_exporter": "python",
   "pygments_lexer": "ipython3",
   "version": "3.12.7"
  }
 },
 "nbformat": 4,
 "nbformat_minor": 2
}
